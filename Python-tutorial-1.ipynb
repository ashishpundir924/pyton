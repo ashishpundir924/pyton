{
 "cells": [
  {
   "cell_type": "markdown",
   "metadata": {},
   "source": [
    "# Topic covered in this python tutorial \n",
    "1. [Mutable or immutable?](#mutable)\n",
    "2. [Numbers](#numbers)<br>\n",
    "$\\;\\;\\;\\;\\;\\;$ 2.1 [Integers](#integers)<br>\n",
    "$\\;\\;\\;\\;\\;\\;$ 2.2 [Booleans](#booleans)<br>\n",
    "$\\;\\;\\;\\;\\;\\;$ 2.3 [Real numbers](#realnumbers)<br>\n",
    "$\\;\\;\\;\\;\\;\\;$ 2.4 [Complex numbers](#complexnumbers)<br>\n",
    "$\\;\\;\\;\\;\\;\\;$ 2.5 [Fractions and decimals](#Fractionsanddecimals)<br>\n",
    "3. [Strings](#Stringsandbytes)<br>\n",
    "4. [Encoding and decoding strings](#Encodinganddecodingstrings)<br>\n",
    "5. [Indexing and slicing strings](#Indexingandslicingstrings)<br>\n",
    "6. [String formatting](#Stringformatting)<br>\n",
    "7. [Tuples](#Tuples)<br>\n",
    "8. [Lists](#Lists)<br>\n",
    "9. [Byte arrays](#Bytearrays)<br>\n",
    "10. [Set types](#Settypes)<br>\n",
    "11. [Dictionaries](#dictionaries)<br>\n",
    "12. [namedtuple](#namedtuple)<br>\n",
    "13. [defaultdict](#defaultdict)<br>\n",
    "14. [ChainMap](#ChainMap)<br>\n",
    "15. [Enums](#Enums)<br>"
   ]
  },
  {
   "cell_type": "markdown",
   "metadata": {},
   "source": [
    "<a id='mutable'></a>\n",
    "\n",
    "# 1. Mutable or immutable?\n",
    "\n",
    "\n",
    "A first fundamental distinction that Python makes on data is about whether or not the value of an object changes. If the value can change, the object is called mutable, while if the value cannot change, the object is called immutable.\n",
    "\n",
    "List of Mutable and Immutable objects\n",
    "\n",
    "Objects of built-in type that are mutable are:\n",
    "1. Lists\n",
    "2. Sets\n",
    "3. Dictionaries\n",
    "4. User-Defined Classes (It purely depends upon the user to define the characteristics) \n",
    "\n",
    "Objects of built-in type that are immutable are:\n",
    "1. Numbers (Integer, Rational, Float, Decimal, Complex & Booleans)\n",
    "2. Strings\n",
    "3. Tuples\n",
    "4. Frozen Sets\n",
    "5. User-Defined Classes (It purely depends upon the user to define the characteristics)\n"
   ]
  },
  {
   "cell_type": "markdown",
   "metadata": {},
   "source": [
    "<font color='green'>Example of Mutable object -</font>"
   ]
  },
  {
   "cell_type": "code",
   "execution_count": 1,
   "metadata": {},
   "outputs": [
    {
     "name": "stdout",
     "output_type": "stream",
     "text": [
      "Print the id of List_cities = 746962792640\n"
     ]
    }
   ],
   "source": [
    "# Make a List to save the name of the city\n",
    "List_cities = [\"Delhi\", \"Mumbai\", \"Kolkata\"]\n",
    "print(\"Print the id of List_cities =\",id(List_cities))"
   ]
  },
  {
   "cell_type": "code",
   "execution_count": 2,
   "metadata": {},
   "outputs": [
    {
     "name": "stdout",
     "output_type": "stream",
     "text": [
      "Print new list : ['Delhi', 'Mumbai', 'Kolkata', 'poznan']\n",
      "Print the id of List_cities again = 746962792640\n"
     ]
    }
   ],
   "source": [
    "# Add one more city to the list\n",
    "List_cities.append(\"poznan\")\n",
    "print(\"Print new list :\",List_cities)\n",
    "print(\"Print the id of List_cities again =\",id(List_cities))"
   ]
  },
  {
   "cell_type": "markdown",
   "metadata": {},
   "source": [
    "The above example shows us that we were able to change the internal state of the object ‘List_cities’ by adding one more city ‘poznan’ to it, yet, the memory address of the object did not change. This confirms that we did not create a new object, rather, the same object was changed or mutated. Hence, we can say that the object which is a type of list with reference variable name ‘List_cities’ is a MUTABLE OBJECT."
   ]
  },
  {
   "cell_type": "markdown",
   "metadata": {},
   "source": [
    "<font color='green'>Example of immutable object -</font>"
   ]
  },
  {
   "cell_type": "code",
   "execution_count": 3,
   "metadata": {},
   "outputs": [
    {
     "name": "stdout",
     "output_type": "stream",
     "text": [
      "Id of the age variable : 140720016276544\n"
     ]
    }
   ],
   "source": [
    "# Create a variable \"age\"\n",
    "age = 42\n",
    "print(\"Id of the age variable :\",id(age))"
   ]
  },
  {
   "cell_type": "code",
   "execution_count": 4,
   "metadata": {},
   "outputs": [
    {
     "name": "stdout",
     "output_type": "stream",
     "text": [
      "Id of the changed 'age' variable : 140720016276576\n"
     ]
    }
   ],
   "source": [
    "# Let's the change the variable value\n",
    "age = 43\n",
    "print(\"Id of the changed 'age' variable :\",id(age))"
   ]
  },
  {
   "cell_type": "markdown",
   "metadata": {},
   "source": [
    "In conclusion the id of the age variable is changed so Number objects are immutable."
   ]
  },
  {
   "cell_type": "markdown",
   "metadata": {},
   "source": [
    "<a id='numbers'></a>\n",
    "\n",
    "# 2. Numbers\n",
    "Numbers are immutable objects.\n"
   ]
  },
  {
   "cell_type": "markdown",
   "metadata": {},
   "source": [
    "<a id='integers'></a>\n",
    "## 2.1 Integers\n",
    "Integer numbers can be positive, negative, and 0 (zero). They support all the basic mathematical operations, as shown in the following example:"
   ]
  },
  {
   "cell_type": "code",
   "execution_count": 5,
   "metadata": {},
   "outputs": [
    {
     "name": "stdout",
     "output_type": "stream",
     "text": [
      "sum of a+b : 17\n",
      "subtraction of a-b : 11\n",
      "multiplication of a*b : 42\n",
      "true division of a/b : 4.666666666666667\n",
      "integer division of a//b : 4\n",
      "modulo operation of a%b : 2\n",
      "power operation : 2744\n"
     ]
    }
   ],
   "source": [
    "a = 14\n",
    "b = 3\n",
    "\n",
    "# addition\n",
    "addition= a + b \n",
    "print(\"sum of a+b :\",addition)\n",
    "\n",
    "# subtraction\n",
    "subtraction=  a - b  \n",
    "print(\"subtraction of a-b :\",subtraction)\n",
    "\n",
    "# multiplication\n",
    "multiplication = a * b\n",
    "print(\"multiplication of a*b :\",multiplication)\n",
    "\n",
    "# true division\n",
    "true_division = a / b  \n",
    "print(\"true division of a/b :\",true_division)\n",
    "\n",
    "# integer division\n",
    "integer_division = a // b \n",
    "print(\"integer division of a//b :\",integer_division)\n",
    "\n",
    "# modulo operation (reminder of division)\n",
    "modulo_operation=a % b\n",
    "print(\"modulo operation of a%b :\",modulo_operation)\n",
    "\n",
    "# power operation\n",
    "power_operation = a ** b  \n",
    "print(\"power operation :\",power_operation)"
   ]
  },
  {
   "cell_type": "markdown",
   "metadata": {},
   "source": [
    "Note: <br>\n",
    "Python has two division operators, one performs the so-called true division (/), which returns the quotient of the operands, and the other one, the so-called integer division (//), which returns the floored quotient of the operands."
   ]
  },
  {
   "cell_type": "code",
   "execution_count": 6,
   "metadata": {},
   "outputs": [
    {
     "name": "stdout",
     "output_type": "stream",
     "text": [
      " 7 / 4:  1.75\n",
      " 7 // 4:  1\n",
      " -7 / 4:  -1.75\n",
      " -7 // 4:  -2\n"
     ]
    }
   ],
   "source": [
    "# true division\n",
    "print(\" 7 / 4: \",(7 / 4))\n",
    "\n",
    "# integer division, truncation returns 1\n",
    "print(\" 7 // 4: \",(7 // 4))\n",
    "     \n",
    "# true division again, result is opposite of previous\n",
    "print(\" -7 / 4: \",(-7 / 4)) \n",
    "     \n",
    "# integer div., result not the opposite of previous\n",
    "print(\" -7 // 4: \",(-7 // 4)) "
   ]
  },
  {
   "cell_type": "markdown",
   "metadata": {},
   "source": [
    "The result of an integer division in Python is always rounded towards minus infinity. If, instead of flooring, you want to truncate a number to an integer, you can use the built-in int function, as shown in the following example:"
   ]
  },
  {
   "cell_type": "code",
   "execution_count": 7,
   "metadata": {},
   "outputs": [
    {
     "name": "stdout",
     "output_type": "stream",
     "text": [
      "-1\n",
      "1\n"
     ]
    }
   ],
   "source": [
    "print(int(-1.75))\n",
    "print(int(1.75))"
   ]
  },
  {
   "cell_type": "markdown",
   "metadata": {},
   "source": [
    "<font color='red'>Notice that the truncation is done toward 0</font>"
   ]
  },
  {
   "cell_type": "markdown",
   "metadata": {},
   "source": [
    "One nice feature introduced in Python 3.6 is the ability to add underscores within number literals (between digits or base specifiers, but not leading or trailing). The purpose is to help make some numbers more readable, like for example 1_000_000_000:"
   ]
  },
  {
   "cell_type": "code",
   "execution_count": 8,
   "metadata": {},
   "outputs": [
    {
     "name": "stdout",
     "output_type": "stream",
     "text": [
      "555666888\n"
     ]
    }
   ],
   "source": [
    "phone_number = 555_666_888\n",
    "print(phone_number)"
   ]
  },
  {
   "cell_type": "markdown",
   "metadata": {},
   "source": [
    "<a id='booleans'></a>\n",
    "## 2.2 Booleans"
   ]
  },
  {
   "cell_type": "markdown",
   "metadata": {},
   "source": [
    "Boolean algebra is that subset of algebra in which the values of the variables are the truth values: true and false. In Python, True and False are two keywords that are used to represent truth values. Booleans are a subclass of integers, and behave respectively like 1 and 0"
   ]
  },
  {
   "cell_type": "code",
   "execution_count": 9,
   "metadata": {},
   "outputs": [
    {
     "name": "stdout",
     "output_type": "stream",
     "text": [
      "int(True) : 1\n",
      "int(False) : 0\n",
      "bool(1) : True\n",
      "bool(-42) : True\n",
      "bool(0) : False\n",
      "not True : False\n",
      "not False : True\n",
      "True and True : True\n",
      "False or True : True\n",
      "1 + True : 2\n",
      "False + 42 : 42\n",
      "7 - True : 6\n"
     ]
    }
   ],
   "source": [
    "# True behaves like 1\n",
    "print(\"int(True) :\",int(True))\n",
    "  \n",
    "# False behaves like 0  \n",
    "print(\"int(False) :\",int(False))\n",
    "\n",
    "# 1 evaluates to True in a boolean context\n",
    "print(\"bool(1) :\",bool(1))\n",
    "\n",
    "# and so does every non-zero number\n",
    "print(\"bool(-42) :\",bool(-42))\n",
    "\n",
    "# 0 evaluates to False \n",
    "print(\"bool(0) :\",bool(0))\n",
    "\n",
    "# quick peak at the operators (and, or, not)\n",
    "print(\"not True :\",not True)\n",
    "\n",
    "print(\"not False :\",not False)\n",
    "\n",
    "print(\"True and True :\",True and True)\n",
    " \n",
    "print(\"False or True :\",False or True)\n",
    "\n",
    "print(\"1 + True :\",1 + True)\n",
    "\n",
    "print(\"False + 42 :\",False + 42) \n",
    "\n",
    "print(\"7 - True :\",7 - True) "
   ]
  },
  {
   "cell_type": "markdown",
   "metadata": {},
   "source": [
    "<a id='realnumbers'></a>\n",
    "## 2.3 Real numbers\n"
   ]
  },
  {
   "cell_type": "markdown",
   "metadata": {},
   "source": [
    "Real numbers, or floating point numbers, are represented in Python according to the IEEE 754 double-precision binary floating-point format, which is stored in 64 bits of information divided into three sections: sign, exponent, and mantissa."
   ]
  },
  {
   "cell_type": "markdown",
   "metadata": {},
   "source": [
    "Usually, programming languages give coders two different formats: single and double precision. The former takes up 32 bits of memory, and the latter 64. Python supports only the double format. Let's see a simple example:"
   ]
  },
  {
   "cell_type": "code",
   "execution_count": 10,
   "metadata": {},
   "outputs": [
    {
     "name": "stdout",
     "output_type": "stream",
     "text": [
      "63.617251235400005\n"
     ]
    }
   ],
   "source": [
    "# Let's define pi and radius values\n",
    "\n",
    "pi = 3.1415926536 \n",
    "radius = 4.5\n",
    "area = pi * (radius ** 2)\n",
    "print(area)\n"
   ]
  },
  {
   "cell_type": "markdown",
   "metadata": {},
   "source": [
    "<a id='complexnumbers'></a>\n",
    "## 2.4 Complex Numbers"
   ]
  },
  {
   "cell_type": "code",
   "execution_count": 11,
   "metadata": {},
   "outputs": [
    {
     "name": "stdout",
     "output_type": "stream",
     "text": [
      "c.real : 3.14\n",
      "c.imag : 2.73\n",
      "c.conjugate() : (3.14-2.73j)\n",
      "c * 2  : (6.28+5.46j)\n",
      "c ** 2 : (2.4067000000000007+17.1444j)\n",
      "c - d : (2.14+1.73j)\n"
     ]
    }
   ],
   "source": [
    "# Define a complex number\n",
    "c = 3.14 + 2.73j\n",
    "\n",
    "# real part\n",
    "print(\"c.real :\",c.real)  \n",
    "\n",
    "# imaginary part\n",
    "print(\"c.imag :\",c.imag)\n",
    "  \n",
    "\n",
    "# conjugate of A + Bj is A - Bj\n",
    "print(\"c.conjugate() :\",c.conjugate())\n",
    "   \n",
    "\n",
    "# multiplication is allowed\n",
    "print(\"c * 2  :\",c * 2)\n",
    "\n",
    "\n",
    "# power operation as well\n",
    "print(\"c ** 2 :\",c ** 2)\n",
    "\n",
    "\n",
    "# addition and subtraction as well\n",
    "d = 1 + 1j  \n",
    "print(\"c - d :\",c - d)"
   ]
  },
  {
   "cell_type": "markdown",
   "metadata": {},
   "source": [
    "<a id='Fractionsanddecimals'></a>\n",
    "## 2.5 Fractions and decimals"
   ]
  },
  {
   "cell_type": "markdown",
   "metadata": {},
   "source": [
    "Fractions hold a rational numerator and denominator in their lowest forms. Let's see a quick example:\n"
   ]
  },
  {
   "cell_type": "code",
   "execution_count": 21,
   "metadata": {},
   "outputs": [
    {
     "name": "stdout",
     "output_type": "stream",
     "text": [
      "5/3\n",
      "1\n",
      "f numerator : 5\n",
      "f denominator : 3\n"
     ]
    }
   ],
   "source": [
    "from fractions import Fraction\n",
    "A = Fraction(10, 6)  # mad hatter?\n",
    "print(A)  # notice it's been simplified after printing\n",
    "\n",
    "print(Fraction(1, 3) + Fraction(2, 3))  # 1/3 + 2/3 == 3/3 == 1/1\n",
    "\n",
    "f = Fraction(10, 6)\n",
    "print(\"f numerator :\",f.numerator)\n",
    "print(\"f denominator :\",f.denominator)"
   ]
  },
  {
   "cell_type": "markdown",
   "metadata": {},
   "source": [
    "Let's see a quick example with decimal numbers:"
   ]
  },
  {
   "cell_type": "code",
   "execution_count": 23,
   "metadata": {},
   "outputs": [
    {
     "name": "stdout",
     "output_type": "stream",
     "text": [
      "3.140000000000000124344978758017532527446746826171875\n",
      "3.14\n",
      "2.775557561565156540423631668E-17\n",
      "0.0\n",
      "(7, 5)\n"
     ]
    }
   ],
   "source": [
    "from decimal import Decimal as D  # rename for brevity\n",
    "a = D(3.14)  # pi, from float, so approximation issues\n",
    "print(a)\n",
    "\n",
    "b=D('3.14')  # pi, from a string, so no approximation issues\n",
    "print(b)\n",
    "\n",
    "c = D(0.1) * D(3) - D(0.3)  # from float, we still have the issue\n",
    "print(c)\n",
    "\n",
    "d= D('0.1') * D(3) - D('0.3')  # from string, all perfect\n",
    "print(d)\n",
    "\n",
    "e = D('1.4').as_integer_ratio()  # 7/5 = 1.4 (isn't this cool?!)\n",
    "print(e)"
   ]
  },
  {
   "cell_type": "markdown",
   "metadata": {},
   "source": [
    "Notice that when we construct a Decimal number from a float, it takes on all the approximation issues float may come from. On the other hand, when the Decimal has no approximation issues (for example, when we feed an int or a string representation to the constructor), then the calculation has no quirky behavior. When it comes to money, use decimals."
   ]
  },
  {
   "cell_type": "markdown",
   "metadata": {},
   "source": [
    "<a id='Stringsandbytes'></a>\n",
    "## 3. Strings"
   ]
  },
  {
   "cell_type": "markdown",
   "metadata": {},
   "source": [
    "Let's start with immutable sequences: strings, tuples, and bytes"
   ]
  },
  {
   "cell_type": "markdown",
   "metadata": {},
   "source": [
    "Textual data in Python is handled with str objects, more commonly known as strings. They are immutable sequences of Unicode code points. Unicode code points can represent a character, but can also have other meanings, such as formatting data, for example. Python, unlike other languages, doesn't have a char type, so a single character is rendered simply by a string of length 1"
   ]
  },
  {
   "cell_type": "markdown",
   "metadata": {},
   "source": [
    "Unicode is an excellent way to handle data, and should be used for the internals of any application. When it comes to storing textual data though, or sending it on the network, you may want to encode it, using an appropriate encoding for the medium you're using. The result of an encoding produces a bytes object, whose syntax and behavior is similar to that of strings. String literals are written in Python using single, double, or triple quotes (both single or double). If built with triple quotes, a string can span on multiple lines. An example will clarify this:"
   ]
  },
  {
   "cell_type": "code",
   "execution_count": 25,
   "metadata": {},
   "outputs": [
    {
     "name": "stdout",
     "output_type": "stream",
     "text": [
      "This is a string. We built it with single quotes.\n",
      " \n",
      "This is also a string, but built with double quotes.\n",
      " \n",
      "This is built using triple quotes,\n",
      "so it can span multiple lines.\n",
      " \n",
      "This too\n",
      "is a multiline one\n",
      "built with triple double-quotes.\n",
      " \n",
      "This too\n",
      "is a multiline one\n",
      "built with triple double-quotes.\n"
     ]
    }
   ],
   "source": [
    "# 4 ways to make a string\n",
    "str1 = 'This is a string. We built it with single quotes.'\n",
    "str2 = \"This is also a string, but built with double quotes.\"\n",
    "str3 = '''This is built using triple quotes,\n",
    "so it can span multiple lines.'''\n",
    "str4 = \"\"\"This too\n",
    "is a multiline one\n",
    "built with triple double-quotes.\"\"\"\n",
    "str5='This too\\nis a multiline one\\nbuilt with triple double-quotes.'\n",
    "\n",
    "print(str1)\n",
    "print(\" \")\n",
    "print(str2)\n",
    "print(\" \")\n",
    "print(str3)\n",
    "print(\" \")\n",
    "print(str4)\n",
    "print(\" \")\n",
    "print(str5) "
   ]
  },
  {
   "cell_type": "markdown",
   "metadata": {},
   "source": [
    "Strings, like any sequence, have a length. You can get this by calling the len function:"
   ]
  },
  {
   "cell_type": "code",
   "execution_count": 26,
   "metadata": {},
   "outputs": [
    {
     "name": "stdout",
     "output_type": "stream",
     "text": [
      "49\n"
     ]
    }
   ],
   "source": [
    "print(len(str1))"
   ]
  },
  {
   "cell_type": "markdown",
   "metadata": {},
   "source": [
    "<a id='Encodinganddecodingstrings'></a>\n",
    "## 4. Encoding and decoding strings"
   ]
  },
  {
   "cell_type": "markdown",
   "metadata": {},
   "source": [
    "Using the encode/decode methods, we can encode Unicode strings and decode bytes objects. UTF-8 is a variable length character encoding, capable of encoding all possible Unicode code points. It is the dominant encoding for the web. Notice also that by adding a literal b in front of a string declaration, we're creating a bytes object:"
   ]
  },
  {
   "cell_type": "code",
   "execution_count": 36,
   "metadata": {},
   "outputs": [
    {
     "name": "stdout",
     "output_type": "stream",
     "text": [
      "<class 'str'>\n",
      "b'This is \\xc3\\xbc\\xc5\\x8b\\xc3\\xadc0de'\n",
      "<class 'bytes'>\n",
      "This is üŋíc0de\n",
      "<class 'bytes'>\n"
     ]
    }
   ],
   "source": [
    "s = \"This is üŋíc0de\"  # unicode string: code points\n",
    "print(type(s))\n",
    "\n",
    "encoded_s = s.encode('utf-8')  # utf-8 encoded version of s\n",
    "print(encoded_s)  # result: bytes object\n",
    "\n",
    "print(type(encoded_s))  # another way to verify it\n",
    "\n",
    "decode = encoded_s.decode('utf-8')  # let's revert to the original\n",
    "print(decode)\n",
    "\n",
    "bytes_obj = b\"A bytes object\"  # a bytes object\n",
    "print(type(bytes_obj))\n"
   ]
  },
  {
   "cell_type": "markdown",
   "metadata": {},
   "source": [
    "\n",
    "PNG, JPEG, MP3, WAV, ASCII, UTF-8 etc are different forms of encodings. An encoding is a format to represent audio, images, text, etc in bytes. Converting Strings to byte objects is termed as encoding. This is necessary so that the text can be stored on disk using mapping using ASCII or UTF-8 encoding techniques.\n",
    "This task is achieved using encode(). It take encoding technique as argument. Default technique is “UTF-8” technique."
   ]
  },
  {
   "cell_type": "code",
   "execution_count": 37,
   "metadata": {},
   "outputs": [
    {
     "name": "stdout",
     "output_type": "stream",
     "text": [
      "Encoding successful\n"
     ]
    }
   ],
   "source": [
    "# Python code to demonstrate String encoding\n",
    "\n",
    "# initialising a String\n",
    "a = 'GeeksforGeeks'\n",
    "\n",
    "# initialising a byte object\n",
    "c = b'GeeksforGeeks'\n",
    "\n",
    "# using encode() to encode the String\n",
    "# encoded version of a is stored in d\n",
    "# using ASCII mapping\n",
    "d = a.encode('ASCII')\n",
    "\n",
    "# checking if a is converted to bytes or not\n",
    "if (d==c):\n",
    "\tprint (\"Encoding successful\")\n",
    "else : print (\"Encoding Unsuccessful\")\n"
   ]
  },
  {
   "cell_type": "markdown",
   "metadata": {},
   "source": [
    "<a id='Indexingandslicingstrings'></a>\n",
    "## 5. Indexing and slicing strings"
   ]
  },
  {
   "cell_type": "markdown",
   "metadata": {},
   "source": [
    "When manipulating sequences, it's very common to have to access them at one precise position (indexing), or to get a subsequence out of them (slicing). When dealing with immutable sequences, both operations are read-only."
   ]
  },
  {
   "cell_type": "markdown",
   "metadata": {},
   "source": [
    "While indexing comes in one form, a zero-based access to any position within the sequence, slicing comes in different forms. When you get a slice of a sequence, you can specify the start and stop positions, and the step. They are separated with a colon (:) like this: my_sequence[start:stop:step]. All the arguments are optional, start is inclusive, and stop is exclusive. It's much easier to show an example, rather than explain them further in words:"
   ]
  },
  {
   "cell_type": "code",
   "execution_count": 29,
   "metadata": {},
   "outputs": [
    {
     "name": "stdout",
     "output_type": "stream",
     "text": [
      "T\n",
      "r\n",
      "The \n",
      "trouble is you think you have time.\n",
      "e trouble is\n",
      "erb \n",
      "The trouble is you think you have time.\n"
     ]
    }
   ],
   "source": [
    "s = \"The trouble is you think you have time.\"\n",
    "print(s[0])  # indexing at position 0, which is the first char\n",
    "\n",
    "print(s[5])  # indexing at position 5, which is the sixth char\n",
    "\n",
    "print(s[:4])  # slicing, we specify only the stop position\n",
    "\n",
    "print(s[4:])  # slicing, we specify only the start position\n",
    "\n",
    "print(s[2:14])  # slicing, both start and stop positions\n",
    "\n",
    "print(s[2:14:3])  # slicing, start, stop and step (every 3 chars)\n",
    "\n",
    "print(s[:])  # quick way of making a copy"
   ]
  },
  {
   "cell_type": "code",
   "execution_count": 30,
   "metadata": {},
   "outputs": [
    {
     "name": "stdout",
     "output_type": "stream",
     "text": [
      "[0, 1, 2, 3, 4, 5, 6, 7, 8, 9]\n",
      "10\n",
      "9\n",
      "9\n",
      "8\n",
      "7\n"
     ]
    }
   ],
   "source": [
    "a = list(range(10))  # `a` has 10 elements. Last one is 9.\n",
    "print(a)\n",
    "\n",
    "print(len(a))  # its length is 10 elements\n",
    "\n",
    "print(a[len(a) - 1])  # position of last one is len(a) - 1\n",
    "\n",
    "print(a[-1])  # but we don't need len(a)! Python rocks!\n",
    "\n",
    "print(a[-2])  # equivalent to len(a) - 2\n",
    "\n",
    "print(a[-3])  # equivalent to len(a) - 3\n"
   ]
  },
  {
   "cell_type": "markdown",
   "metadata": {},
   "source": [
    "<a id='Stringformatting'></a>\n",
    "## 6. String formatting"
   ]
  },
  {
   "cell_type": "markdown",
   "metadata": {},
   "source": [
    "One of the features strings have is the ability to be used as a template. There are several different ways of formatting a string, and for the full list of possibilities. Here are some common examples:"
   ]
  },
  {
   "cell_type": "code",
   "execution_count": 31,
   "metadata": {},
   "outputs": [
    {
     "name": "stdout",
     "output_type": "stream",
     "text": [
      "Hello Fabrizio!\n",
      "Hello Fabrizio Romano!\n",
      "This is Python! Fabrizio loves Python!\n",
      "This is Coffee! Fab loves Coffee!\n",
      "Hello, my name is Fabrizio Romano\n"
     ]
    }
   ],
   "source": [
    "greet_old = 'Hello %s!'\n",
    "b= greet_old % 'Fabrizio'\n",
    "print(b)\n",
    "\n",
    "greet_positional = 'Hello {} {}!'\n",
    "c=greet_positional.format('Fabrizio', 'Romano')\n",
    "print(c)\n",
    "\n",
    "greet_positional_idx = 'This is {0}! {1} loves {0}!'\n",
    "d=greet_positional_idx.format('Python', 'Fabrizio')\n",
    "print(d)\n",
    "e=greet_positional_idx.format('Coffee', 'Fab')\n",
    "print(e)\n",
    "\n",
    "keyword = 'Hello, my name is {name} {last_name}'\n",
    "f=keyword.format(name='Fabrizio', last_name='Romano')\n",
    "print(f)"
   ]
  },
  {
   "cell_type": "markdown",
   "metadata": {},
   "source": [
    "<a id='Tuples'></a>\n",
    "## 7. Tuples"
   ]
  },
  {
   "cell_type": "markdown",
   "metadata": {},
   "source": [
    "A tuple is a sequence of arbitrary Python objects. In a tuple, items are separated by commas. They are used everywhere in Python, because they allow for patterns that are hard to reproduce in other languages. Sometimes tuples are used implicitly; for example, to set up multiple variables on one line, or to allow a function to return multiple different objects (usually a function returns one object only, in many other languages), and even in the Python console, you can use tuples implicitly to print multiple elements with one single instruction. We'll see examples for all these cases:"
   ]
  },
  {
   "cell_type": "code",
   "execution_count": 32,
   "metadata": {},
   "outputs": [
    {
     "name": "stdout",
     "output_type": "stream",
     "text": [
      "<class 'tuple'>\n",
      "(42,)\n",
      "(1, 3, 5)\n",
      "1 2 3\n",
      "True\n"
     ]
    }
   ],
   "source": [
    "t = ()  # empty tuple\n",
    "print(type(t))\n",
    "\n",
    "one_element_tuple = (42, )  # you need the comma!\n",
    "three_elements_tuple = (1, 3, 5)  # braces are optional here\n",
    "\n",
    "print(one_element_tuple)\n",
    "print(three_elements_tuple)\n",
    "\n",
    "a, b, c = 1, 2, 3  # tuple for multiple assignment\n",
    "\n",
    "print(a, b, c)  # implicit tuple to print with one instruction\n",
    "\n",
    "print(3 in three_elements_tuple)  # membership test\n"
   ]
  },
  {
   "cell_type": "markdown",
   "metadata": {},
   "source": [
    "Notice that the membership operator in can also be used with lists, strings, dictionaries, and, in general, with collection and sequence objects."
   ]
  },
  {
   "cell_type": "markdown",
   "metadata": {},
   "source": [
    "Notice that to create a tuple with one item, we need to put that comma after the item. The reason is that without the comma that item is just itself wrapped in braces, kind of in a redundant mathematical expression. Notice also that on assignment, braces are optional so my_tuple = 1, 2, 3 is the same as my_tuple = (1, 2, 3)."
   ]
  },
  {
   "cell_type": "markdown",
   "metadata": {},
   "source": [
    "One thing that tuple assignment allows us to do, is one-line swaps, with no need for a third temporary variable. Let's see first a more traditional way of doing it:"
   ]
  },
  {
   "cell_type": "code",
   "execution_count": 33,
   "metadata": {},
   "outputs": [
    {
     "name": "stdout",
     "output_type": "stream",
     "text": [
      "2 1\n"
     ]
    }
   ],
   "source": [
    "a, b = 1, 2\n",
    "c = a  # we need three lines and a temporary var c\n",
    "a = b\n",
    "b = c\n",
    "print(a, b)  # a and b have been swapped\n"
   ]
  },
  {
   "cell_type": "markdown",
   "metadata": {},
   "source": [
    "And now let's see how we would do it in Python:"
   ]
  },
  {
   "cell_type": "code",
   "execution_count": 34,
   "metadata": {},
   "outputs": [
    {
     "name": "stdout",
     "output_type": "stream",
     "text": [
      "1 0\n"
     ]
    }
   ],
   "source": [
    "a, b = 0, 1\n",
    "a, b = b, a  # this is the Pythonic way to do it\n",
    "print(a, b)\n"
   ]
  },
  {
   "cell_type": "markdown",
   "metadata": {},
   "source": [
    "<a id='Lists'></a>\n",
    "## 8. Lists"
   ]
  },
  {
   "cell_type": "markdown",
   "metadata": {},
   "source": [
    "Mutable sequences differ from their immutable sisters in that they can be changed after creation. There are two mutable sequence types in Python: lists and byte arrays. I said before that the dictionary is the king of data structures in Python. I guess this makes the list its rightful queen."
   ]
  },
  {
   "cell_type": "markdown",
   "metadata": {},
   "source": [
    "Python lists are mutable sequences. They are very similar to tuples, but they don't have the restrictions of immutability. Lists are commonly used to storing collections of homogeneous objects, but there is nothing preventing you from store heterogeneous collections as well. Lists can be created in many different ways. Let's see an example:"
   ]
  },
  {
   "cell_type": "code",
   "execution_count": 39,
   "metadata": {},
   "outputs": [
    {
     "name": "stdout",
     "output_type": "stream",
     "text": [
      "<class 'list'>\n",
      "<class 'list'>\n",
      "<class 'list'>\n",
      "<class 'list'>\n",
      "[7, 8, 9]\n",
      "<class 'list'>\n",
      "[1, 3, 5, 7, 9]\n",
      "<class 'list'>\n",
      "['h', 'e', 'l', 'l', 'o']\n",
      "o\n"
     ]
    }
   ],
   "source": [
    "list_type1 = []\n",
    "print(type(list_type1))\n",
    "\n",
    "list_type2 = list()  # same as []\n",
    "print(type(list_type2))\n",
    "\n",
    "list_type3 = [1, 2, 3]  # as with tuples, items are comma separated\n",
    "print(type(list_type3))\n",
    "\n",
    "list_type4 = [x + 5 for x in [2, 3, 4]]  # Python is magic\n",
    "print(type(list_type4))\n",
    "print(list_type4)\n",
    "\n",
    "list_type5 =list((1, 3, 5, 7, 9))  # list from a tuple\n",
    "print(type(list_type5))\n",
    "print(list_type5)\n",
    "\n",
    "list_type6 =list('hello')  # list from a string\n",
    "print(type(list_type6))\n",
    "print(list_type6)\n",
    "\n",
    "print(list_type6[0])"
   ]
  },
  {
   "cell_type": "markdown",
   "metadata": {},
   "source": [
    "Operations with List"
   ]
  },
  {
   "cell_type": "code",
   "execution_count": 40,
   "metadata": {},
   "outputs": [
    {
     "name": "stdout",
     "output_type": "stream",
     "text": [
      "[1, 2, 1, 3]\n",
      "[1, 2, 1, 3, 13]\n",
      "2\n",
      "[1, 2, 1, 3, 13, 5, 7]\n",
      "4\n",
      "[17, 1, 2, 1, 3, 13, 5, 7]\n",
      "[17, 1, 2, 1, 3, 13, 5]\n",
      "[17, 1, 2, 3, 13, 5]\n",
      "[1, 2, 3, 13, 5]\n",
      "[5, 13, 3, 2, 1]\n",
      "[1, 2, 3, 5, 13]\n",
      "[]\n"
     ]
    }
   ],
   "source": [
    "a = [1, 2, 1, 3]\n",
    "print(a)\n",
    "\n",
    "a.append(13)  # we can append anything at the end\n",
    "print(a)\n",
    "\n",
    "print(a.count(1))  # how many `1` are there in the list?\n",
    "\n",
    "a.extend([5, 7])  # extend the list by another (or sequence)\n",
    "print(a)\n",
    "\n",
    "print(a.index(13))  # position of `13` in the list (0-based indexing)\n",
    "\n",
    "\n",
    "a.insert(0, 17)  # insert `17` at position 0\n",
    "print(a)\n",
    "\n",
    "a.pop()  # pop (remove and return) last element\n",
    "print(a)\n",
    "\n",
    "a.pop(3)  # pop element at position 3\n",
    "print(a)\n",
    "\n",
    "\n",
    "a.remove(17)  # remove `17` from the list\n",
    "print(a)\n",
    "\n",
    "a.reverse()  # reverse the order of the elements in the list\n",
    "print(a)\n",
    "\n",
    "a.sort()  # sort the list\n",
    "print(a)\n",
    "\n",
    "a.clear()  # remove all elements from the list\n",
    "print(a)"
   ]
  },
  {
   "cell_type": "markdown",
   "metadata": {},
   "source": [
    " You can extend lists using any sequence type:"
   ]
  },
  {
   "cell_type": "code",
   "execution_count": 41,
   "metadata": {},
   "outputs": [
    {
     "name": "stdout",
     "output_type": "stream",
     "text": [
      "['h', 'e', 'l', 'l', 'o']\n",
      "['h', 'e', 'l', 'l', 'o', 100]\n",
      "['h', 'e', 'l', 'l', 'o', 100, 1, 2, 3]\n",
      "['h', 'e', 'l', 'l', 'o', 100, 1, 2, 3, '.', '.', '.']\n"
     ]
    }
   ],
   "source": [
    "a = list('hello')  # makes a list from a string\n",
    "print(a)\n",
    "\n",
    "a.append(100)  # append 100, heterogeneous type\n",
    "print(a)\n",
    "\n",
    "a.extend((1, 2, 3))  # extend using tuple\n",
    "print(a)\n",
    "\n",
    "a.extend('...')  # extend using string\n",
    "print(a)"
   ]
  },
  {
   "cell_type": "markdown",
   "metadata": {},
   "source": [
    "Now, let's see what are the most common operations you can do with lists:"
   ]
  },
  {
   "cell_type": "code",
   "execution_count": 42,
   "metadata": {},
   "outputs": [
    {
     "name": "stdout",
     "output_type": "stream",
     "text": [
      "1\n",
      "7\n",
      "16\n",
      "4\n",
      "[1, 3, 5, 7, 6, 7, 8]\n",
      "[1, 3, 5, 7, 1, 3, 5, 7]\n"
     ]
    }
   ],
   "source": [
    "a = [1, 3, 5, 7]\n",
    "print(min(a))  # minimum value in the list\n",
    "\n",
    "print(max(a))  # maximum value in the list\n",
    "\n",
    "print(sum(a))  # sum of all values in the list\n",
    "\n",
    "print(len(a))  # number of elements in the list\n",
    "\n",
    "b = [6, 7, 8]\n",
    "print(a + b) \n",
    "\n",
    "print(a * 2)  # `*` has also a special meaning\n"
   ]
  },
  {
   "cell_type": "markdown",
   "metadata": {},
   "source": [
    "The last two lines in the preceding code are quite interesting because they introduce us to a concept called operator overloading. In short, it means that operators such as +, -. *, %, and so on, may represent different operations according to the context they are used in. It doesn't make any sense to sum two lists, right? Therefore, the + sign is used to concatenate them. Hence, the * sign is used to concatenate the list to itself according to the right operand."
   ]
  },
  {
   "cell_type": "markdown",
   "metadata": {},
   "source": [
    "<a id='Bytearrays'></a>\n",
    "## 9. Byte arrays"
   ]
  },
  {
   "cell_type": "markdown",
   "metadata": {},
   "source": [
    "To conclude our overview of mutable sequence types, let's spend a couple of minutes on the bytearray type. Basically, they represent the mutable version of bytes objects. They expose most of the usual methods of mutable sequences as well as most of the methods of the bytes type. Items are integers in the range [0, 256)."
   ]
  },
  {
   "cell_type": "code",
   "execution_count": 47,
   "metadata": {},
   "outputs": [
    {
     "name": "stdout",
     "output_type": "stream",
     "text": [
      "bytearray(b'')\n",
      "bytearray(b'\\x00\\x00\\x00\\x00\\x00\\x00\\x00\\x00\\x00\\x00')\n",
      "range(0, 5)\n",
      "bytearray(b'\\x00\\x01\\x02\\x03\\x04')\n",
      "bytearray(b'Lina')\n",
      "bytearray(b'lina')\n",
      "True\n",
      "bytearray(b'LINA')\n",
      "1\n"
     ]
    }
   ],
   "source": [
    "a = bytearray()  # empty bytearray object\n",
    "print(a)\n",
    "\n",
    "b = bytearray(10)  # zero-filled instance with given length\n",
    "print(b)\n",
    "\n",
    "print(range(5)) # This is how the range function works\n",
    "\n",
    "c = bytearray(range(5)) # bytearray from iterable of integers\n",
    "print(c)\n",
    "\n",
    "name = bytearray(b'Lina')  #A - bytearray from bytes\n",
    "print(name)\n",
    "print(name.replace(b'L', b'l'))\n",
    "\n",
    "\n",
    "print(name.endswith(b'na'))\n",
    "\n",
    "print(name.upper())\n",
    "\n",
    "print(name.count(b'L'))"
   ]
  },
  {
   "cell_type": "markdown",
   "metadata": {},
   "source": [
    "As you can see in the preceding code, there are a few ways to create a bytearray object. They can be useful in many situations; for example, when receiving data through a socket, they eliminate the need to concatenate data while polling, hence they can prove to be very handy. On the line #A, I created a bytearray named as name from the bytes literal b'Lina' to show you how the bytearray object exposes methods from both sequences and strings, which is extremely handy. If you think about it, they can be considered as mutable strings."
   ]
  },
  {
   "cell_type": "markdown",
   "metadata": {},
   "source": [
    "<a id='Settypes'></a>\n",
    "## 10. Set types"
   ]
  },
  {
   "cell_type": "markdown",
   "metadata": {},
   "source": [
    "Python also provides two set types, set and frozenset. The set type is mutable, while frozenset is immutable. They are unordered collections of immutable objects. Hashability is a characteristic that allows an object to be used as a set member as well as a key for a dictionary, as we'll see very soon."
   ]
  },
  {
   "cell_type": "markdown",
   "metadata": {},
   "source": [
    "Objects that compare equally must have the same hash value. Sets are very commonly used to test for membership, so let's introduce the in operator in the following example:"
   ]
  },
  {
   "cell_type": "code",
   "execution_count": 48,
   "metadata": {},
   "outputs": [
    {
     "name": "stdout",
     "output_type": "stream",
     "text": [
      "{2, 3, 5}\n",
      "{1, 2, 3, 5}\n",
      "{2, 3, 5}\n",
      "True\n",
      "False\n",
      "True\n",
      "{2, 3, 5}\n",
      "{2, 3, 5, 7, 11, 13}\n",
      "{5}\n",
      "{2, 3}\n"
     ]
    }
   ],
   "source": [
    "small_primes = set()  # empty set\n",
    "small_primes.add(2)  # adding one element at a time\n",
    "small_primes.add(3)\n",
    "small_primes.add(5)\n",
    "print(small_primes)\n",
    "\n",
    "small_primes.add(1)  # Look what I've done, 1 is not a prime!\n",
    "print(small_primes)\n",
    "\n",
    "small_primes.remove(1)  # so let's remove it\n",
    "print(small_primes)\n",
    "\n",
    "print(3 in small_primes) # membership test\n",
    "\n",
    "print(4 in small_primes)\n",
    "\n",
    "print(4 not in small_primes)  # negated membership test\n",
    "\n",
    "small_primes.add(3)  # trying to add 3 again\n",
    "print(small_primes)# no change, duplication is not allowed\n",
    "\n",
    "bigger_primes = set([5, 7, 11, 13])  # faster creation\n",
    "print(small_primes | bigger_primes) # union operator `|`\n",
    "\n",
    "print(small_primes & bigger_primes)  # intersection operator `&`\n",
    "\n",
    "print(small_primes - bigger_primes)  # difference operator `-`\n"
   ]
  },
  {
   "cell_type": "markdown",
   "metadata": {},
   "source": [
    "Another way of creating a set is by simply using the curly braces notation, like this:"
   ]
  },
  {
   "cell_type": "code",
   "execution_count": 49,
   "metadata": {},
   "outputs": [
    {
     "name": "stdout",
     "output_type": "stream",
     "text": [
      "{2, 3, 5}\n"
     ]
    }
   ],
   "source": [
    "small_primes = {2, 3, 5, 5, 3}\n",
    "print(small_primes)"
   ]
  },
  {
   "cell_type": "markdown",
   "metadata": {},
   "source": [
    "Notice I added some duplication to emphasize that the resulting set won't have any. Let's see an example about the immutable counterpart of the set type, frozenset:"
   ]
  },
  {
   "cell_type": "code",
   "execution_count": 50,
   "metadata": {},
   "outputs": [
    {
     "ename": "AttributeError",
     "evalue": "'frozenset' object has no attribute 'add'",
     "output_type": "error",
     "traceback": [
      "\u001b[1;31m---------------------------------------------------------------------------\u001b[0m",
      "\u001b[1;31mAttributeError\u001b[0m                            Traceback (most recent call last)",
      "\u001b[1;32m<ipython-input-50-3c72a5d7c252>\u001b[0m in \u001b[0;36m<module>\u001b[1;34m\u001b[0m\n\u001b[0;32m      2\u001b[0m \u001b[0mbigger_primes\u001b[0m \u001b[1;33m=\u001b[0m \u001b[0mfrozenset\u001b[0m\u001b[1;33m(\u001b[0m\u001b[1;33m[\u001b[0m\u001b[1;36m5\u001b[0m\u001b[1;33m,\u001b[0m \u001b[1;36m7\u001b[0m\u001b[1;33m,\u001b[0m \u001b[1;36m11\u001b[0m\u001b[1;33m]\u001b[0m\u001b[1;33m)\u001b[0m\u001b[1;33m\u001b[0m\u001b[1;33m\u001b[0m\u001b[0m\n\u001b[0;32m      3\u001b[0m \u001b[1;33m\u001b[0m\u001b[0m\n\u001b[1;32m----> 4\u001b[1;33m \u001b[0mprint\u001b[0m\u001b[1;33m(\u001b[0m\u001b[0msmall_primes\u001b[0m\u001b[1;33m.\u001b[0m\u001b[0madd\u001b[0m\u001b[1;33m(\u001b[0m\u001b[1;36m11\u001b[0m\u001b[1;33m)\u001b[0m\u001b[1;33m)\u001b[0m \u001b[1;31m# we cannot add to a frozenset\u001b[0m\u001b[1;33m\u001b[0m\u001b[1;33m\u001b[0m\u001b[0m\n\u001b[0m\u001b[0;32m      5\u001b[0m \u001b[0mprint\u001b[0m\u001b[1;33m(\u001b[0m\u001b[0msmall_primes\u001b[0m\u001b[1;33m.\u001b[0m\u001b[0mremove\u001b[0m\u001b[1;33m(\u001b[0m\u001b[1;36m2\u001b[0m\u001b[1;33m)\u001b[0m\u001b[1;33m)\u001b[0m  \u001b[1;31m# neither we can remove\u001b[0m\u001b[1;33m\u001b[0m\u001b[1;33m\u001b[0m\u001b[0m\n\u001b[0;32m      6\u001b[0m \u001b[1;33m\u001b[0m\u001b[0m\n",
      "\u001b[1;31mAttributeError\u001b[0m: 'frozenset' object has no attribute 'add'"
     ]
    }
   ],
   "source": [
    "small_primes = frozenset([2, 3, 5, 7])\n",
    "bigger_primes = frozenset([5, 7, 11])\n",
    "\n",
    "print(small_primes.add(11)) # we cannot add to a frozenset\n"
   ]
  },
  {
   "cell_type": "code",
   "execution_count": 51,
   "metadata": {},
   "outputs": [
    {
     "ename": "AttributeError",
     "evalue": "'frozenset' object has no attribute 'remove'",
     "output_type": "error",
     "traceback": [
      "\u001b[1;31m---------------------------------------------------------------------------\u001b[0m",
      "\u001b[1;31mAttributeError\u001b[0m                            Traceback (most recent call last)",
      "\u001b[1;32m<ipython-input-51-f09751d16dca>\u001b[0m in \u001b[0;36m<module>\u001b[1;34m\u001b[0m\n\u001b[1;32m----> 1\u001b[1;33m \u001b[0mprint\u001b[0m\u001b[1;33m(\u001b[0m\u001b[0msmall_primes\u001b[0m\u001b[1;33m.\u001b[0m\u001b[0mremove\u001b[0m\u001b[1;33m(\u001b[0m\u001b[1;36m2\u001b[0m\u001b[1;33m)\u001b[0m\u001b[1;33m)\u001b[0m  \u001b[1;31m# neither we can remove\u001b[0m\u001b[1;33m\u001b[0m\u001b[1;33m\u001b[0m\u001b[0m\n\u001b[0m",
      "\u001b[1;31mAttributeError\u001b[0m: 'frozenset' object has no attribute 'remove'"
     ]
    }
   ],
   "source": [
    "print(small_primes.remove(2))  # neither we can remove"
   ]
  },
  {
   "cell_type": "code",
   "execution_count": 52,
   "metadata": {},
   "outputs": [
    {
     "name": "stdout",
     "output_type": "stream",
     "text": [
      "frozenset({5, 7})\n"
     ]
    }
   ],
   "source": [
    "print(small_primes & bigger_primes)  # intersect, union, etc. allowed"
   ]
  },
  {
   "cell_type": "markdown",
   "metadata": {},
   "source": [
    "<a id='dictionaries'></a>\n",
    "## 11. Dictionaries"
   ]
  },
  {
   "cell_type": "markdown",
   "metadata": {},
   "source": [
    "Of all the built-in Python data types, the dictionary is easily the most interesting one. It's the only standard mapping type, and it is the backbone of every Python object.\n",
    "\n",
    "A dictionary maps keys to values. Keys need to be hashable objects, while values can be of any arbitrary type. Dictionaries are mutable objects. There are quite a few different ways to create a dictionary, so let me give you a simple example of how to create a dictionary equal to {'A': 1, 'Z': -1} in five different ways"
   ]
  },
  {
   "cell_type": "code",
   "execution_count": 1,
   "metadata": {},
   "outputs": [
    {
     "name": "stdout",
     "output_type": "stream",
     "text": [
      "True\n"
     ]
    }
   ],
   "source": [
    "a = dict(A=1, Z=-1)\n",
    "b = {'A': 1, 'Z': -1}\n",
    "c = dict(zip(['A', 'Z'], [1, -1]))\n",
    "d = dict([('A', 1), ('Z', -1)])\n",
    "e = dict({'Z': -1, 'A': 1})\n",
    "print(a == b == c == d == e)  # are they all the same? # They are indeed"
   ]
  },
  {
   "cell_type": "markdown",
   "metadata": {},
   "source": [
    "Have you noticed those double equals? Assignment is done with one equal, while to check whether an object is the same as another one (or five in one go, in this case), we use double equals. There is also another way to compare objects, which involves the is operator, and checks whether the two objects are the same (if they have the same ID, not just the value), but unless you have a good reason to use it, you should use the double equals instead. In the preceding code, I also used one nice function: zip. It is named after the real-life zip, which glues together two things taking one element from each at a time. Let me show you an example:"
   ]
  },
  {
   "cell_type": "code",
   "execution_count": 2,
   "metadata": {},
   "outputs": [
    {
     "name": "stdout",
     "output_type": "stream",
     "text": [
      "[('h', 1), ('e', 2), ('l', 3), ('l', 4), ('o', 5)]\n",
      "\n",
      "[('h', 1), ('e', 2), ('l', 3), ('l', 4), ('o', 5)]\n"
     ]
    }
   ],
   "source": [
    "a =list(zip(['h', 'e', 'l', 'l', 'o'], [1, 2, 3, 4, 5]))\n",
    "b =list(zip('hello', range(1, 6)))  # equivalent, more Pythonic\n",
    "print(a)\n",
    "print(\"\")\n",
    "print(b)"
   ]
  },
  {
   "cell_type": "markdown",
   "metadata": {},
   "source": [
    "In the preceding example, I have created the same list in two different ways, one more explicit, and the other a little bit more Pythonic. Forget for a moment that I had to wrap the list constructor around the zip call (the reason is because zip returns an iterator, not a list, so if I want to see the result I need to exhaust that iterator into something—a list in this case), and concentrate on the result. See how zip has coupled the first elements of its two arguments together, then the second ones, then the third ones, and so on and so forth? Take a look at your pants (or at your purse, if you're a lady) and you'll see the same behavior in your actual zip. But let's go back to dictionaries and see how many wonderful methods they expose for allowing us to manipulate them as we want.\n",
    "\n",
    "Let's start with the basic operations:"
   ]
  },
  {
   "cell_type": "code",
   "execution_count": 3,
   "metadata": {},
   "outputs": [
    {
     "name": "stdout",
     "output_type": "stream",
     "text": [
      "2\n",
      "1\n",
      "{'a': 1, 'b': 2}\n",
      "{'b': 2}\n",
      "True\n",
      "False\n",
      "False\n",
      "{}\n"
     ]
    }
   ],
   "source": [
    "d = {}\n",
    "d['a'] = 1  # let's set a couple of (key, value) pairs\n",
    "d['b'] = 2\n",
    "print(len(d))  # how many pairs?\n",
    "\n",
    "print(d['a'])  # what is the value of 'a'?\n",
    "\n",
    "print(d)  # how does `d` look now?\n",
    "\n",
    "del d['a']  # let's remove `a`\n",
    "print(d)\n",
    "\n",
    "d['c'] = 3  # let's add 'c': 3\n",
    "print('c' in d)  # membership is checked against the keys\n",
    "\n",
    "print(3 in d)  # not the values\n",
    "\n",
    "print('e' in d)\n",
    "\n",
    "d.clear()  # let's clean everything from this dictionary\n",
    "print(d)"
   ]
  },
  {
   "cell_type": "markdown",
   "metadata": {},
   "source": [
    "Notice how accessing keys of a dictionary, regardless of the type of operation we're performing, is done through square brackets. Do you remember strings, lists, and tuples? We were accessing elements at some position through square brackets as well, which is yet another example of Python's consistency.\n",
    "\n",
    "Let's see now three special objects called dictionary views: keys, values, and items. These objects provide a dynamic view of the dictionary entries and they change when the dictionary changes. keys() returns all the keys in the dictionary, values() returns all the values in the dictionary, and items() returns all the (key, value) pairs in the dictionary.\n",
    "\n",
    "According to the Python documentation: \"Keys and values are iterated over in an arbitrary order which is non-random, varies across Python implementations, and depends on the dictionary’s history of insertions and deletions. If keys, values and items views are iterated over with no intervening modifications to the dictionary, the order of items will directly correspond.\"\n",
    "Enough with this chatter; let's put all this down into code:"
   ]
  },
  {
   "cell_type": "code",
   "execution_count": 4,
   "metadata": {},
   "outputs": [
    {
     "name": "stdout",
     "output_type": "stream",
     "text": [
      "{'h': 0, 'e': 1, 'l': 3, 'o': 4}\n",
      "dict_keys(['h', 'e', 'l', 'o'])\n",
      "dict_values([0, 1, 3, 4])\n",
      "dict_items([('h', 0), ('e', 1), ('l', 3), ('o', 4)])\n",
      "True\n",
      "True\n"
     ]
    }
   ],
   "source": [
    "d = dict(zip('hello', range(5)))\n",
    "print(d)\n",
    "\n",
    "print(d.keys())\n",
    "\n",
    "print(d.values())\n",
    "\n",
    "print(d.items())\n",
    "\n",
    "print(3 in d.values())\n",
    "\n",
    "print(('o', 4) in d.items())"
   ]
  },
  {
   "cell_type": "markdown",
   "metadata": {},
   "source": [
    "There are a few things to notice in the preceding code. First, notice how we're creating a dictionary by iterating over the zipped version of the string 'hello' and the list [0, 1, 2, 3, 4]. The string 'hello' has two 'l' characters inside, and they are paired up with the values 2 and 3 by the zip function. Notice how in the dictionary, the second occurrence of the 'l' key (the one with value 3), overwrites the first one (the one with value 2). Another thing to notice is that when asking for any view, the original order is now preserved, while before Version 3.6 there was no guarantee of that.\n",
    "\n",
    "As of Python 3.6, the dict type has been reimplemented to use a more compact representation. This resulted in dictionaries using 20% to 25% less memory when compared to Python 3.5. Moreover, in Python 3.6, as a side effect, dictionaries are natively ordered. This feature has received such a welcome from the community that in 3.7 it has become a legit feature of the language rather than an implementation side effect. A dict is ordered if it remembers the order in which keys were first inserted.\n",
    "We'll see how these views are fundamental tools when we talk about iterating over collections. Let's take a look now at some other methods exposed by Python's dictionaries; there's plenty of them and they are very useful:"
   ]
  },
  {
   "cell_type": "code",
   "execution_count": 5,
   "metadata": {},
   "outputs": [
    {
     "name": "stdout",
     "output_type": "stream",
     "text": [
      "{'h': 0, 'e': 1, 'l': 3, 'o': 4}\n",
      "{'h': 0, 'e': 1, 'l': 3}\n",
      "3\n"
     ]
    },
    {
     "ename": "KeyError",
     "evalue": "'not-a-key'",
     "output_type": "error",
     "traceback": [
      "\u001b[1;31m---------------------------------------------------------------------------\u001b[0m",
      "\u001b[1;31mKeyError\u001b[0m                                  Traceback (most recent call last)",
      "\u001b[1;32m<ipython-input-5-51e897cdf4c9>\u001b[0m in \u001b[0;36m<module>\u001b[1;34m\u001b[0m\n\u001b[0;32m      6\u001b[0m \u001b[0mprint\u001b[0m\u001b[1;33m(\u001b[0m\u001b[0md\u001b[0m\u001b[1;33m.\u001b[0m\u001b[0mpop\u001b[0m\u001b[1;33m(\u001b[0m\u001b[1;34m'l'\u001b[0m\u001b[1;33m)\u001b[0m\u001b[1;33m)\u001b[0m  \u001b[1;31m# remove item with key `l`\u001b[0m\u001b[1;33m\u001b[0m\u001b[1;33m\u001b[0m\u001b[0m\n\u001b[0;32m      7\u001b[0m \u001b[1;33m\u001b[0m\u001b[0m\n\u001b[1;32m----> 8\u001b[1;33m \u001b[0mprint\u001b[0m\u001b[1;33m(\u001b[0m\u001b[0md\u001b[0m\u001b[1;33m.\u001b[0m\u001b[0mpop\u001b[0m\u001b[1;33m(\u001b[0m\u001b[1;34m'not-a-key'\u001b[0m\u001b[1;33m)\u001b[0m\u001b[1;33m)\u001b[0m  \u001b[1;31m# remove a key not in dictionary: KeyError\u001b[0m\u001b[1;33m\u001b[0m\u001b[1;33m\u001b[0m\u001b[0m\n\u001b[0m\u001b[0;32m      9\u001b[0m \u001b[1;33m\u001b[0m\u001b[0m\n",
      "\u001b[1;31mKeyError\u001b[0m: 'not-a-key'"
     ]
    }
   ],
   "source": [
    "print(d)\n",
    "\n",
    "d.popitem()  # removes a random item (useful in algorithms)\n",
    "print(d)\n",
    "\n",
    "print(d.pop('l'))  # remove item with key `l`\n",
    "\n",
    "print(d.pop('not-a-key'))  # remove a key not in dictionary: KeyError\n",
    "\n"
   ]
  },
  {
   "cell_type": "code",
   "execution_count": 6,
   "metadata": {},
   "outputs": [
    {
     "name": "stdout",
     "output_type": "stream",
     "text": [
      "default-value\n",
      "{'h': 0, 'e': 1, 'another': 'value', 'a': 13}\n",
      "13\n",
      "13\n",
      "177\n",
      "None\n"
     ]
    }
   ],
   "source": [
    "print(d.pop('not-a-key', 'default-value'))  # with a default value?\n",
    "\n",
    "d.update({'another': 'value'})  # we can update dict this way\n",
    "d.update(a=13)  # or this way (like a function call)\n",
    "print(d)\n",
    "print(d.get('a'))  # same as d['a'] but if key is missing no KeyError\n",
    "\n",
    "print(d.get('a', 177))  # default value used if key is missing\n",
    "\n",
    "print(d.get('b', 177))  # like in this case\n",
    "\n",
    "print(d.get('b'))  # key is not there, so None is returned"
   ]
  },
  {
   "cell_type": "markdown",
   "metadata": {},
   "source": [
    "All these methods are quite simple to understand, but it's worth talking about that None, for a moment. Every function in Python returns None, unless the return statement is explicitly used to return something else, but we'll see this when we explore functions. None is frequently used to represent the absence of a value, and it is quite commonly used as a default value for arguments in function declaration. Some inexperienced coders sometimes write code that returns either False or None. Both False and None evaluate to False in a Boolean context so it may seem there is not much difference between them. But actually, I would argue there is quite an important difference: False means that we have information, and the information we have is False. None means no information. And no information is very different from information that is False. In layman's terms, if you ask your mechanic, Is my car ready?, there is a big difference between the answer, No, it's not (False) and, I have no idea (None).\n",
    "\n",
    "One last method I really like about dictionaries is setdefault. It behaves like get, but also sets the key with the given value if it is not there. Let's see an example:"
   ]
  },
  {
   "cell_type": "code",
   "execution_count": 7,
   "metadata": {},
   "outputs": [
    {
     "name": "stdout",
     "output_type": "stream",
     "text": [
      "{'a': 1}\n",
      "1\n",
      "{'a': 1}\n"
     ]
    }
   ],
   "source": [
    "d = {}\n",
    "d.setdefault('a', 1)  # 'a' is missing, we get default value\n",
    "\n",
    "print(d) # also, the key/value pair ('a', 1) has now been added\n",
    "\n",
    "print(d.setdefault('a', 5))  # let's try to override the value\n",
    "\n",
    "print(d)# no override, as expected"
   ]
  },
  {
   "cell_type": "markdown",
   "metadata": {},
   "source": [
    "<a id='namedtuple'></a>\n",
    "## 12. namedtuple"
   ]
  },
  {
   "cell_type": "markdown",
   "metadata": {},
   "source": [
    "A namedtuple is a tuple-like object that has fields accessible by attribute lookup as well as being indexable and iterable (it's actually a subclass of tuple). This is sort of a compromise between a full-fledged object and a tuple, and it can be useful in those cases where you don't need the full power of a custom object, but you want your code to be more readable by avoiding weird indexing. Another use case is when there is a chance that items in the tuple need to change their position after refactoring, forcing the coder to refactor also all the logic involved, which can be very tricky. As usual, an example is better than a thousand words (or was it a picture?). Say we are handling data about the left and right eyes of a patient. We save one value for the left eye (position 0) and one for the right eye (position 1) in a regular tuple. Here's how that might be:"
   ]
  },
  {
   "cell_type": "code",
   "execution_count": 8,
   "metadata": {},
   "outputs": [
    {
     "name": "stdout",
     "output_type": "stream",
     "text": [
      "(9.5, 8.8)\n",
      "9.5\n",
      "8.8\n"
     ]
    }
   ],
   "source": [
    "vision = (9.5, 8.8)\n",
    "print(vision)\n",
    "\n",
    "print(vision[0])  # left eye (implicit positional reference)\n",
    "\n",
    "print(vision[1])  # right eye (implicit positional reference)\n"
   ]
  },
  {
   "cell_type": "markdown",
   "metadata": {},
   "source": [
    "Now let's pretend we handle vision objects all the time, and at some point the designer decides to enhance them by adding information for the combined vision, so that a vision object stores data in this format: (left eye, combined, right eye).\n",
    "\n",
    "Do you see the trouble we're in now? We may have a lot of code that depends on vision[0] being the left eye information (which it still is) and vision[1] being the right eye information (which is no longer the case). We have to refactor our code wherever we handle these objects, changing vision[1] to vision[2], and it can be painful. We could have probably approached this a bit better from the beginning, by using a namedtuple. Let me show you what I mean:"
   ]
  },
  {
   "cell_type": "code",
   "execution_count": 9,
   "metadata": {},
   "outputs": [
    {
     "name": "stdout",
     "output_type": "stream",
     "text": [
      "9.5\n",
      "9.5\n",
      "8.8\n"
     ]
    }
   ],
   "source": [
    "from collections import namedtuple\n",
    "Vision = namedtuple('Vision', ['left', 'right'])\n",
    "vision = Vision(9.5, 8.8)\n",
    "print(vision[0])\n",
    "\n",
    "print(vision.left)  # same as vision[0], but explicit\n",
    "\n",
    "print(vision.right)  # same as vision[1], but explicit\n"
   ]
  },
  {
   "cell_type": "markdown",
   "metadata": {},
   "source": [
    "You can see how convenient it is to refer to those values by name rather than by position. After all, a wise man once wrote, Explicit is better than implicit (can you recall where? Think Zen if you can't...). This example may be a little extreme; of course, it's not likely that our code designer will go for a change like this, but you'd be amazed to see how frequently issues similar to this one happen in a professional environment, and how painful it is to refactor them."
   ]
  },
  {
   "cell_type": "markdown",
   "metadata": {},
   "source": [
    "<a id='defaultdict'></a>\n",
    "## 13. defaultdict"
   ]
  },
  {
   "cell_type": "markdown",
   "metadata": {},
   "source": [
    "The defaultdict data type is one of my favorites. It allows you to avoid checking if a key is in a dictionary by simply inserting it for you on your first access attempt, with a default value whose type you pass on creation. In some cases, this tool can be very handy and shorten your code a little. Let's see a quick example. Say we are updating the value of age, by adding one year. If age is not there, we assume it was 0 and we update it to 1:"
   ]
  },
  {
   "cell_type": "code",
   "execution_count": 10,
   "metadata": {},
   "outputs": [
    {
     "name": "stdout",
     "output_type": "stream",
     "text": [
      "{'age': 1}\n",
      "{'age': 40}\n"
     ]
    }
   ],
   "source": [
    "d = {}\n",
    "d['age'] = d.get('age', 0) + 1  # age not there, we get 0 + 1\n",
    "print(d)\n",
    "\n",
    "d = {'age': 39}\n",
    "d['age'] = d.get('age', 0) + 1  # age is there, we get 40\n",
    "print(d)"
   ]
  },
  {
   "cell_type": "markdown",
   "metadata": {},
   "source": [
    "Now let's see how it would work with a defaultdict data type. The second line is actually the short version of a four-lines-long if clause that we would have to write if dictionaries didn't have the get method "
   ]
  },
  {
   "cell_type": "code",
   "execution_count": 11,
   "metadata": {},
   "outputs": [
    {
     "name": "stdout",
     "output_type": "stream",
     "text": [
      "defaultdict(<class 'int'>, {'age': 1})\n"
     ]
    }
   ],
   "source": [
    "from collections import defaultdict\n",
    "dd = defaultdict(int)  # int is the default type (0 the value)\n",
    "dd['age'] += 1  # short for dd['age'] = dd['age'] + 1\n",
    "print(dd)"
   ]
  },
  {
   "cell_type": "markdown",
   "metadata": {},
   "source": [
    "Notice how we just need to instruct the defaultdict factory that we want an int number to be used in case the key is missing (we'll get 0, which is the default for the int type). Also, notice that even though in this example there is no gain on the number of lines, there is definitely a gain in readability, which is very important. You can also use a different technique to instantiate a defaultdict data type, which involves creating a factory object."
   ]
  },
  {
   "cell_type": "markdown",
   "metadata": {},
   "source": [
    "<a id='ChainMap'></a>\n",
    "## 14. ChainMap"
   ]
  },
  {
   "cell_type": "markdown",
   "metadata": {},
   "source": [
    "ChainMap is an extremely nice data type which was introduced in Python 3.3. It behaves like a normal dictionary but according to the Python documentation: \"is provided for quickly linking a number of mappings so they can be treated as a single unit\". This is usually much faster than creating one dictionary and running multiple update calls on it. ChainMap can be used to simulate nested scopes and is useful in templating. The underlying mappings are stored in a list. That list is public and can be accessed or updated using the maps attribute. Lookups search the underlying mappings successively until a key is found. By contrast, writes, updates, and deletions only operate on the first mapping.\n",
    "\n",
    "A very common use case is providing defaults, so let's see an example:"
   ]
  },
  {
   "cell_type": "code",
   "execution_count": 12,
   "metadata": {},
   "outputs": [
    {
     "name": "stdout",
     "output_type": "stream",
     "text": [
      "5678\n",
      "localhost\n",
      "[{'port': 5678}, {'host': 'localhost', 'port': 4567}]\n",
      "[{'port': 5678, 'host': 'packtpub.com'}, {'host': 'localhost', 'port': 4567}]\n",
      "[{'host': 'packtpub.com'}, {'host': 'localhost', 'port': 4567}]\n",
      "4567\n",
      "{'host': 'packtpub.com', 'port': 4567}\n"
     ]
    }
   ],
   "source": [
    "from collections import ChainMap\n",
    "default_connection = {'host': 'localhost', 'port': 4567}\n",
    "connection = {'port': 5678}\n",
    "conn = ChainMap(connection, default_connection)  # map creation\n",
    "print(conn['port'])  # port is found in the first dictionary\n",
    "\n",
    "print(conn['host'])  # host is fetched from the second dictionary\n",
    "\n",
    "print(conn.maps)  # we can see the mapping objects\n",
    "\n",
    "conn['host'] = 'packtpub.com'  # let's add host\n",
    "print(conn.maps)\n",
    "\n",
    "del conn['port']  # let's remove the port information\n",
    "print(conn.maps)\n",
    "\n",
    "print(conn['port'])  # now port is fetched from the second dictionary\n",
    "\n",
    "print(dict(conn))  # easy to merge and convert to regular dictionary"
   ]
  },
  {
   "cell_type": "markdown",
   "metadata": {},
   "source": [
    "<a id='Enums'></a>\n",
    "## 15. Enums"
   ]
  },
  {
   "cell_type": "markdown",
   "metadata": {},
   "source": [
    "Technically not a built-in data type, as you have to import them from the enum module, but definitely worth mentioning, are enumerations. They were introduced in Python 3.4, and though it is not that common to see them in professional code (yet), I thought I'd give you an example anyway.\n",
    "\n",
    "The official definition goes like this: \"An enumeration is a set of symbolic names (members) bound to unique, constant values. Within an enumeration, the members can be compared by identity, and the enumeration itself can be iterated over.\"\n",
    "\n",
    "Say you need to represent traffic lights. In your code, you might resort to doing this:"
   ]
  },
  {
   "cell_type": "code",
   "execution_count": 13,
   "metadata": {},
   "outputs": [
    {
     "name": "stdout",
     "output_type": "stream",
     "text": [
      "(1, 2, 4)\n",
      "{'GREEN': 1, 'YELLOW': 2, 'RED': 4}\n"
     ]
    }
   ],
   "source": [
    "GREEN = 1\n",
    "YELLOW = 2\n",
    "RED = 4\n",
    "TRAFFIC_LIGHTS = (GREEN, YELLOW, RED)\n",
    " # or with a dict\n",
    "traffic_lights = {'GREEN': 1, 'YELLOW': 2, 'RED': 4}\n",
    "print(TRAFFIC_LIGHTS)\n",
    "print(traffic_lights)"
   ]
  },
  {
   "cell_type": "markdown",
   "metadata": {},
   "source": [
    "There's nothing special about the preceding code. It's something, in fact, that is very common to find. But, consider doing this instead:"
   ]
  },
  {
   "cell_type": "code",
   "execution_count": 14,
   "metadata": {},
   "outputs": [
    {
     "name": "stdout",
     "output_type": "stream",
     "text": [
      "TrafficLight.GREEN\n",
      "GREEN\n",
      "1\n",
      "TrafficLight.GREEN\n",
      "TrafficLight.RED\n"
     ]
    }
   ],
   "source": [
    "from enum import Enum\n",
    "class TrafficLight(Enum):\n",
    "    GREEN = 1\n",
    "    YELLOW = 2\n",
    "    RED = 4\n",
    "\n",
    "print(TrafficLight.GREEN)\n",
    "\n",
    "print(TrafficLight.GREEN.name)\n",
    "\n",
    "print(TrafficLight.GREEN.value)\n",
    "\n",
    "print(TrafficLight(1))\n",
    "\n",
    "print(TrafficLight(4))\n"
   ]
  },
  {
   "cell_type": "markdown",
   "metadata": {},
   "source": [
    "Ignoring for a moment the (relative) complexity of a class definition, you can appreciate how this might be more advantageous. The data structure is much cleaner, and the API it provides is much more powerful. I encourage you to check out the official documentation to explore all the great features you can find in the enum module. I think it's worth exploring, at least once."
   ]
  },
  {
   "cell_type": "code",
   "execution_count": null,
   "metadata": {},
   "outputs": [],
   "source": []
  }
 ],
 "metadata": {
  "kernelspec": {
   "display_name": "Python 3",
   "language": "python",
   "name": "python3"
  },
  "language_info": {
   "codemirror_mode": {
    "name": "ipython",
    "version": 3
   },
   "file_extension": ".py",
   "mimetype": "text/x-python",
   "name": "python",
   "nbconvert_exporter": "python",
   "pygments_lexer": "ipython3",
   "version": "3.8.3"
  }
 },
 "nbformat": 4,
 "nbformat_minor": 4
}
